{
 "cells": [
  {
   "cell_type": "markdown",
   "id": "fce653d7-207d-431f-bcc9-483a398b638a",
   "metadata": {},
   "source": [
    "# EXTRACT DATA"
   ]
  },
  {
   "cell_type": "code",
   "execution_count": 1,
   "id": "801015e0-7fd2-4633-88f9-89360eb0d41b",
   "metadata": {
    "tags": []
   },
   "outputs": [
    {
     "data": {
      "text/html": [
       "<div>\n",
       "<style scoped>\n",
       "    .dataframe tbody tr th:only-of-type {\n",
       "        vertical-align: middle;\n",
       "    }\n",
       "\n",
       "    .dataframe tbody tr th {\n",
       "        vertical-align: top;\n",
       "    }\n",
       "\n",
       "    .dataframe thead th {\n",
       "        text-align: right;\n",
       "    }\n",
       "</style>\n",
       "<table border=\"1\" class=\"dataframe\">\n",
       "  <thead>\n",
       "    <tr style=\"text-align: right;\">\n",
       "      <th></th>\n",
       "      <th>invoice_no</th>\n",
       "      <th>customer_id</th>\n",
       "      <th>gender</th>\n",
       "      <th>age</th>\n",
       "      <th>category</th>\n",
       "      <th>quantity</th>\n",
       "      <th>price</th>\n",
       "      <th>payment_method</th>\n",
       "      <th>invoice_date</th>\n",
       "      <th>shopping_mall</th>\n",
       "    </tr>\n",
       "  </thead>\n",
       "  <tbody>\n",
       "    <tr>\n",
       "      <th>0</th>\n",
       "      <td>I138884</td>\n",
       "      <td>C241288</td>\n",
       "      <td>Female</td>\n",
       "      <td>28</td>\n",
       "      <td>Clothing</td>\n",
       "      <td>5</td>\n",
       "      <td>1500.40</td>\n",
       "      <td>Credit Card</td>\n",
       "      <td>5/8/2022</td>\n",
       "      <td>Kanyon</td>\n",
       "    </tr>\n",
       "    <tr>\n",
       "      <th>1</th>\n",
       "      <td>I317333</td>\n",
       "      <td>C111565</td>\n",
       "      <td>Male</td>\n",
       "      <td>21</td>\n",
       "      <td>Shoes</td>\n",
       "      <td>3</td>\n",
       "      <td>1800.51</td>\n",
       "      <td>Debit Card</td>\n",
       "      <td>12/12/2021</td>\n",
       "      <td>Forum Istanbul</td>\n",
       "    </tr>\n",
       "    <tr>\n",
       "      <th>2</th>\n",
       "      <td>I127801</td>\n",
       "      <td>C266599</td>\n",
       "      <td>Male</td>\n",
       "      <td>20</td>\n",
       "      <td>Clothing</td>\n",
       "      <td>1</td>\n",
       "      <td>300.08</td>\n",
       "      <td>Cash</td>\n",
       "      <td>9/11/2021</td>\n",
       "      <td>Metrocity</td>\n",
       "    </tr>\n",
       "    <tr>\n",
       "      <th>3</th>\n",
       "      <td>I173702</td>\n",
       "      <td>C988172</td>\n",
       "      <td>Female</td>\n",
       "      <td>66</td>\n",
       "      <td>Shoes</td>\n",
       "      <td>5</td>\n",
       "      <td>3000.85</td>\n",
       "      <td>Credit Card</td>\n",
       "      <td>16/05/2021</td>\n",
       "      <td>Metropol AVM</td>\n",
       "    </tr>\n",
       "    <tr>\n",
       "      <th>4</th>\n",
       "      <td>I337046</td>\n",
       "      <td>C189076</td>\n",
       "      <td>Female</td>\n",
       "      <td>53</td>\n",
       "      <td>Books</td>\n",
       "      <td>4</td>\n",
       "      <td>60.60</td>\n",
       "      <td>Cash</td>\n",
       "      <td>24/10/2021</td>\n",
       "      <td>Kanyon</td>\n",
       "    </tr>\n",
       "    <tr>\n",
       "      <th>...</th>\n",
       "      <td>...</td>\n",
       "      <td>...</td>\n",
       "      <td>...</td>\n",
       "      <td>...</td>\n",
       "      <td>...</td>\n",
       "      <td>...</td>\n",
       "      <td>...</td>\n",
       "      <td>...</td>\n",
       "      <td>...</td>\n",
       "      <td>...</td>\n",
       "    </tr>\n",
       "    <tr>\n",
       "      <th>99452</th>\n",
       "      <td>I219422</td>\n",
       "      <td>C441542</td>\n",
       "      <td>Female</td>\n",
       "      <td>45</td>\n",
       "      <td>Souvenir</td>\n",
       "      <td>5</td>\n",
       "      <td>58.65</td>\n",
       "      <td>Credit Card</td>\n",
       "      <td>21/09/2022</td>\n",
       "      <td>Kanyon</td>\n",
       "    </tr>\n",
       "    <tr>\n",
       "      <th>99453</th>\n",
       "      <td>I325143</td>\n",
       "      <td>C569580</td>\n",
       "      <td>Male</td>\n",
       "      <td>27</td>\n",
       "      <td>Food &amp; Beverage</td>\n",
       "      <td>2</td>\n",
       "      <td>10.46</td>\n",
       "      <td>Cash</td>\n",
       "      <td>22/09/2021</td>\n",
       "      <td>Forum Istanbul</td>\n",
       "    </tr>\n",
       "    <tr>\n",
       "      <th>99454</th>\n",
       "      <td>I824010</td>\n",
       "      <td>C103292</td>\n",
       "      <td>Male</td>\n",
       "      <td>63</td>\n",
       "      <td>Food &amp; Beverage</td>\n",
       "      <td>2</td>\n",
       "      <td>10.46</td>\n",
       "      <td>Debit Card</td>\n",
       "      <td>28/03/2021</td>\n",
       "      <td>Metrocity</td>\n",
       "    </tr>\n",
       "    <tr>\n",
       "      <th>99455</th>\n",
       "      <td>I702964</td>\n",
       "      <td>C800631</td>\n",
       "      <td>Male</td>\n",
       "      <td>56</td>\n",
       "      <td>Technology</td>\n",
       "      <td>4</td>\n",
       "      <td>4200.00</td>\n",
       "      <td>Cash</td>\n",
       "      <td>16/03/2021</td>\n",
       "      <td>Istinye Park</td>\n",
       "    </tr>\n",
       "    <tr>\n",
       "      <th>99456</th>\n",
       "      <td>I232867</td>\n",
       "      <td>C273973</td>\n",
       "      <td>Female</td>\n",
       "      <td>36</td>\n",
       "      <td>Souvenir</td>\n",
       "      <td>3</td>\n",
       "      <td>35.19</td>\n",
       "      <td>Credit Card</td>\n",
       "      <td>15/10/2022</td>\n",
       "      <td>Mall of Istanbul</td>\n",
       "    </tr>\n",
       "  </tbody>\n",
       "</table>\n",
       "<p>99457 rows × 10 columns</p>\n",
       "</div>"
      ],
      "text/plain": [
       "      invoice_no customer_id  gender  age         category  quantity    price  \\\n",
       "0        I138884     C241288  Female   28         Clothing         5  1500.40   \n",
       "1        I317333     C111565    Male   21            Shoes         3  1800.51   \n",
       "2        I127801     C266599    Male   20         Clothing         1   300.08   \n",
       "3        I173702     C988172  Female   66            Shoes         5  3000.85   \n",
       "4        I337046     C189076  Female   53            Books         4    60.60   \n",
       "...          ...         ...     ...  ...              ...       ...      ...   \n",
       "99452    I219422     C441542  Female   45         Souvenir         5    58.65   \n",
       "99453    I325143     C569580    Male   27  Food & Beverage         2    10.46   \n",
       "99454    I824010     C103292    Male   63  Food & Beverage         2    10.46   \n",
       "99455    I702964     C800631    Male   56       Technology         4  4200.00   \n",
       "99456    I232867     C273973  Female   36         Souvenir         3    35.19   \n",
       "\n",
       "      payment_method invoice_date     shopping_mall  \n",
       "0        Credit Card     5/8/2022            Kanyon  \n",
       "1         Debit Card   12/12/2021    Forum Istanbul  \n",
       "2               Cash    9/11/2021         Metrocity  \n",
       "3        Credit Card   16/05/2021      Metropol AVM  \n",
       "4               Cash   24/10/2021            Kanyon  \n",
       "...              ...          ...               ...  \n",
       "99452    Credit Card   21/09/2022            Kanyon  \n",
       "99453           Cash   22/09/2021    Forum Istanbul  \n",
       "99454     Debit Card   28/03/2021         Metrocity  \n",
       "99455           Cash   16/03/2021      Istinye Park  \n",
       "99456    Credit Card   15/10/2022  Mall of Istanbul  \n",
       "\n",
       "[99457 rows x 10 columns]"
      ]
     },
     "execution_count": 1,
     "metadata": {},
     "output_type": "execute_result"
    }
   ],
   "source": [
    "import pandas as pd\n",
    "\n",
    "df = pd.read_csv('customer_shopping_data.csv')\n",
    "df"
   ]
  },
  {
   "cell_type": "markdown",
   "id": "d37e7986-e6d0-4d7b-84c8-a0f5621aadd5",
   "metadata": {},
   "source": [
    "# DATA INFORMATION"
   ]
  },
  {
   "cell_type": "code",
   "execution_count": 2,
   "id": "f54e98aa-e77f-4138-92dd-8a2a7f0fab4e",
   "metadata": {
    "tags": []
   },
   "outputs": [
    {
     "data": {
      "text/plain": [
       "invoice_no         object\n",
       "customer_id        object\n",
       "gender             object\n",
       "age                 int64\n",
       "category           object\n",
       "quantity            int64\n",
       "price             float64\n",
       "payment_method     object\n",
       "invoice_date       object\n",
       "shopping_mall      object\n",
       "dtype: object"
      ]
     },
     "execution_count": 2,
     "metadata": {},
     "output_type": "execute_result"
    }
   ],
   "source": [
    "# Checking the data types\n",
    "df.dtypes"
   ]
  },
  {
   "cell_type": "markdown",
   "id": "fe04717e-af47-4edc-a3e3-eeb7bc45867a",
   "metadata": {},
   "source": [
    "The 'invoice_date' column needs to be converted to datetime."
   ]
  },
  {
   "cell_type": "code",
   "execution_count": 3,
   "id": "3d8f12a3-8bf3-4245-b98c-0d6ecb34e410",
   "metadata": {
    "tags": []
   },
   "outputs": [
    {
     "data": {
      "text/plain": [
       "invoice_no        0\n",
       "customer_id       0\n",
       "gender            0\n",
       "age               0\n",
       "category          0\n",
       "quantity          0\n",
       "price             0\n",
       "payment_method    0\n",
       "invoice_date      0\n",
       "shopping_mall     0\n",
       "dtype: int64"
      ]
     },
     "execution_count": 3,
     "metadata": {},
     "output_type": "execute_result"
    }
   ],
   "source": [
    "# Checking for missing values\n",
    "df.isnull().sum()"
   ]
  },
  {
   "cell_type": "markdown",
   "id": "0a6a2d3a-653c-4e31-90b8-baf0b078822b",
   "metadata": {},
   "source": [
    "The dataset does't contain any missing values."
   ]
  },
  {
   "cell_type": "code",
   "execution_count": 4,
   "id": "8f017e96-066a-4308-98a2-9d88645c7fb9",
   "metadata": {
    "tags": []
   },
   "outputs": [
    {
     "data": {
      "text/plain": [
       "0"
      ]
     },
     "execution_count": 4,
     "metadata": {},
     "output_type": "execute_result"
    }
   ],
   "source": [
    "# Checking for duplicates\n",
    "df.duplicated().sum()"
   ]
  },
  {
   "cell_type": "markdown",
   "id": "764b4029-5823-49c5-b8af-ae576eadedc1",
   "metadata": {},
   "source": [
    "The dataset doesn't contain any duplicates."
   ]
  },
  {
   "cell_type": "code",
   "execution_count": 5,
   "id": "29337321-81bb-4e1e-ab3c-ab4e365d72ab",
   "metadata": {
    "tags": []
   },
   "outputs": [
    {
     "name": "stdout",
     "output_type": "stream",
     "text": [
      "Mall of Istanbul : 19943 transactions\n"
     ]
    }
   ],
   "source": [
    "# Finding the shopping mall with the most transactions\n",
    "most_common_mall = df['shopping_mall'].value_counts().idxmax()\n",
    "most_common_mall_count = df['shopping_mall'].value_counts().max()\n",
    "\n",
    "print(f\"{most_common_mall} : {most_common_mall_count} transactions\")"
   ]
  },
  {
   "cell_type": "markdown",
   "id": "838f6c6c-dd35-4a48-8a36-87d5e176f97b",
   "metadata": {},
   "source": [
    "# TRANSFORM DATA"
   ]
  },
  {
   "cell_type": "code",
   "execution_count": 6,
   "id": "f6cf0480-acbc-4835-abc5-ce67937cced8",
   "metadata": {
    "tags": []
   },
   "outputs": [],
   "source": [
    "# Filtering the DataFrame to keep only rows where 'shopping_mall' is 'Mall of Istanbul'\n",
    "filtered_df = df[df['shopping_mall'] == 'Mall of Istanbul'].copy()"
   ]
  },
  {
   "cell_type": "code",
   "execution_count": 7,
   "id": "4ad47f4a-8be9-403d-9361-b099101de1f5",
   "metadata": {},
   "outputs": [],
   "source": [
    "# Converting 'invoice_date' to datetime dtype\n",
    "filtered_df['invoice_date'] = pd.to_datetime(filtered_df['invoice_date'], dayfirst=True)"
   ]
  },
  {
   "cell_type": "code",
   "execution_count": 8,
   "id": "97f73d02-1807-4b6e-a4a6-6369723e1dcf",
   "metadata": {
    "tags": []
   },
   "outputs": [],
   "source": [
    "# Creating a new column with the total sales per row\n",
    "filtered_df['sales'] = df['quantity'] * df['price']\n",
    "\n",
    "# Converting sales from Turkish Lira to US Dollar (1 TL = 0.030 USD)\n",
    "filtered_df['sales'] = (filtered_df['sales'] * 0.03).round(2)"
   ]
  },
  {
   "cell_type": "code",
   "execution_count": 9,
   "id": "b9ef3003-1b38-4734-a89d-7c914ad4782f",
   "metadata": {
    "tags": []
   },
   "outputs": [],
   "source": [
    "# Removing the price column (Unit price) and shopping_mall column (We're only working with one mall)\n",
    "filtered_df = filtered_df.drop('price', axis=1)\n",
    "\n",
    "filtered_df = filtered_df.drop('shopping_mall', axis=1)\n",
    "\n",
    "# Excluding 2023 data due to only having three months of information about it\n",
    "filtered_df.drop(filtered_df.loc[filtered_df['invoice_date'].dt.year == 2023].index, inplace=True)"
   ]
  },
  {
   "cell_type": "code",
   "execution_count": 10,
   "id": "7dcaca3d-8245-434e-a223-14b99dd0ff4a",
   "metadata": {
    "tags": []
   },
   "outputs": [
    {
     "name": "stdout",
     "output_type": "stream",
     "text": [
      "<class 'pandas.core.frame.DataFrame'>\n",
      "Index: 18228 entries, 7 to 99456\n",
      "Data columns (total 9 columns):\n",
      " #   Column          Non-Null Count  Dtype         \n",
      "---  ------          --------------  -----         \n",
      " 0   invoice_no      18228 non-null  object        \n",
      " 1   customer_id     18228 non-null  object        \n",
      " 2   gender          18228 non-null  object        \n",
      " 3   age             18228 non-null  int64         \n",
      " 4   category        18228 non-null  object        \n",
      " 5   quantity        18228 non-null  int64         \n",
      " 6   payment_method  18228 non-null  object        \n",
      " 7   invoice_date    18228 non-null  datetime64[ns]\n",
      " 8   sales           18228 non-null  float64       \n",
      "dtypes: datetime64[ns](1), float64(1), int64(2), object(5)\n",
      "memory usage: 1.4+ MB\n"
     ]
    }
   ],
   "source": [
    "filtered_df.info()"
   ]
  },
  {
   "cell_type": "markdown",
   "id": "8d30072e-f56f-4ae1-b962-69febca598bc",
   "metadata": {},
   "source": [
    "# LOAD CLEANED DATA"
   ]
  },
  {
   "cell_type": "code",
   "execution_count": 11,
   "id": "9a394604-0e11-4d2c-8fd7-2b2a54b70767",
   "metadata": {
    "tags": []
   },
   "outputs": [],
   "source": [
    "# Saving the cleaned DataFrame back to a CSV file\n",
    "filtered_df.to_csv('mall_of_istanbul_cleaned_data.csv', index=False)"
   ]
  }
 ],
 "metadata": {
  "kernelspec": {
   "display_name": "Python 3 (ipykernel)",
   "language": "python",
   "name": "python3"
  },
  "language_info": {
   "codemirror_mode": {
    "name": "ipython",
    "version": 3
   },
   "file_extension": ".py",
   "mimetype": "text/x-python",
   "name": "python",
   "nbconvert_exporter": "python",
   "pygments_lexer": "ipython3",
   "version": "3.11.5"
  }
 },
 "nbformat": 4,
 "nbformat_minor": 5
}
